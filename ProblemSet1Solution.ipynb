{
 "cells": [
  {
   "cell_type": "markdown",
   "id": "1744b95e-097a-441a-93a7-4f833676001a",
   "metadata": {},
   "source": [
    "## Question 1: Data Types\n",
    "\n",
    "**Problem Statement:**\n",
    "\n",
    "What data type is each of the following expressions?\n",
    "\n",
    "1. `5`\n",
    "2. `5.0`\n",
    "3. `5 > 1`\n",
    "4. `'5'`\n",
    "5. `5 * 2`\n",
    "6. `'5' * 2`\n",
    "7. `'5' + '2'`\n",
    "8. `5 / 2`\n",
    "9. `5 % 2`\n",
    "10. `{5, 2, 1}`\n",
    "11. `5 == 3`\n",
    "12. `Pi` (the number)\n",
    "\n",
    "**Instructions:**\n",
    "\n",
    "Implement C# code to determine the data type of each expression and print the results directly to the console.\n"
   ]
  },
  {
   "cell_type": "code",
   "execution_count": 34,
   "id": "6bcc9c95-c30b-4fdb-abac-e9f6ab4402c3",
   "metadata": {},
   "outputs": [
    {
     "name": "stdout",
     "output_type": "stream",
     "text": [
      "Data type of 5: System.Int32\n",
      "Data type of 5.0: System.Double\n",
      "Data type of 5 > 1: System.Boolean\n",
      "Data type of '5': System.Char\n",
      "Data type of 5 * 2: System.Int32\n",
      "Data type of '5' + '2': System.Int32\n",
      "Data type of 5 / 2: System.Int32\n",
      "Data type of 5 % 2: System.Int32\n",
      "Data type of {5, 2, 1}: System.Int32[]\n",
      "Data type of 5 == 3: System.Boolean\n",
      "Data type of Pi (the number): System.Double\n"
     ]
    }
   ],
   "source": [
    "using System;\n",
    "\n",
    "// Display data types for various expressions\n",
    "Console.WriteLine($\"Data type of 5: {((object)5).GetType()}\");\n",
    "Console.WriteLine($\"Data type of 5.0: {((object)5.0).GetType()}\");\n",
    "Console.WriteLine($\"Data type of 5 > 1: {((object)(5 > 1)).GetType()}\");\n",
    "Console.WriteLine($\"Data type of '5': {((object)'5').GetType()}\");\n",
    "Console.WriteLine($\"Data type of 5 * 2: {((object)(5 * 2)).GetType()}\");\n",
    "// Note: You cannot multiply char directly in C#. \n",
    "// '5' * 2 -> Cannot be done.\n",
    "Console.WriteLine($\"Data type of '5' + '2': {((object)('5' + '2')).GetType()}\"); // Concatenates as string\n",
    "Console.WriteLine($\"Data type of 5 / 2: {((object)(5 / 2)).GetType()}\"); // Integer division\n",
    "Console.WriteLine($\"Data type of 5 % 2: {((object)(5 % 2)).GetType()}\");\n",
    "Console.WriteLine($\"Data type of {{5, 2, 1}}: {typeof(int[])}\"); // Assuming this is an array of integers\n",
    "Console.WriteLine($\"Data type of 5 == 3: {((object)(5 == 3)).GetType()}\");\n",
    "Console.WriteLine($\"Data type of Pi (the number): {((object)Math.PI).GetType()}\"); // Using Math.PI for Pi"
   ]
  },
  {
   "cell_type": "markdown",
   "id": "d509e2c9-9ce7-4dca-a052-8141f49481df",
   "metadata": {},
   "source": [
    "## Question 2: String Operations\n",
    "\n",
    "**Problem Statement:**\n",
    "\n",
    "Write (and evaluate) C# expressions that answer these questions:\n",
    "\n",
    "a. How many letters are there in 'Supercalifragilisticexpialidocious'?  \n",
    "b. Does 'Supercalifragilisticexpialidocious' contain 'ice' as a substring?  \n",
    "c. Which of the following words is the longest:  \n",
    "   - `Supercalifragilisticexpialidocious`  \n",
    "   - `Honorificabilitudinitatibus`  \n",
    "   - `Bababadalgharaghtakamminarronnkonn`  \n",
    "\n",
    "d. Which composer comes first in the dictionary:  \n",
    "   - `Berlioz`  \n",
    "   - `Borodin`  \n",
    "   - `Brian`  \n",
    "   - `Bartok`  \n",
    "   - `Bellini`  \n",
    "   - `Buxtehude`  \n",
    "   - `Bernstein`  \n",
    "   \n",
    "**Instructions:**\n",
    "\n",
    "Implement C# code to answer each question and print the results directly to the console.\n"
   ]
  },
  {
   "cell_type": "code",
   "execution_count": 35,
   "id": "8c1df525-915a-4e38-9e0e-c45ec984d51f",
   "metadata": {},
   "outputs": [
    {
     "name": "stdout",
     "output_type": "stream",
     "text": [
      "a. Number of letters in 'Supercalifragilisticexpialidocious': 34\n"
     ]
    }
   ],
   "source": [
    "// Count the number of letters in 'Supercalifragilisticexpialidocious'\n",
    "\n",
    "string supercalifragilisticexpialidocious = \"Supercalifragilisticexpialidocious\";\n",
    "int letterCount = supercalifragilisticexpialidocious.Length; // Count the length of the string\n",
    "Console.WriteLine($\"a. Number of letters in 'Supercalifragilisticexpialidocious': {letterCount}\");\n"
   ]
  },
  {
   "cell_type": "code",
   "execution_count": 36,
   "id": "1ea3cb22-0059-445e-b467-7183c7f39e5a",
   "metadata": {},
   "outputs": [
    {
     "name": "stdout",
     "output_type": "stream",
     "text": [
      "b. Does 'Supercalifragilisticexpialidocious' contain 'ice'? True\n"
     ]
    }
   ],
   "source": [
    "// Check if 'Supercalifragilisticexpialidocious' contains 'ice' as a substring\n",
    "\n",
    "bool containsIce = supercalifragilisticexpialidocious.Contains(\"ice\"); // Check for substring\n",
    "Console.WriteLine($\"b. Does 'Supercalifragilisticexpialidocious' contain 'ice'? {containsIce}\");\n"
   ]
  },
  {
   "cell_type": "code",
   "execution_count": 37,
   "id": "eb29dd8d-01a2-4760-a038-64c7934aa9fe",
   "metadata": {},
   "outputs": [
    {
     "name": "stdout",
     "output_type": "stream",
     "text": [
      "c. The longest word is: Supercalifragilisticexpialidocious\n"
     ]
    }
   ],
   "source": [
    "// Determine the longest word among the three provided\n",
    "\n",
    "string word1 = \"Supercalifragilisticexpialidocious\";\n",
    "string word2 = \"Honorificabilitudinitatibus\";\n",
    "string word3 = \"Bababadalgharaghtakamminarronnkonn\";\n",
    "\n",
    "string longestWord = word1; // Initialize with the first word\n",
    "\n",
    "// Compare lengths to find the longest word\n",
    "if (word2.Length > longestWord.Length)\n",
    "{\n",
    "    longestWord = word2;\n",
    "}\n",
    "if (word3.Length > longestWord.Length)\n",
    "{\n",
    "    longestWord = word3;\n",
    "}\n",
    "\n",
    "Console.WriteLine($\"c. The longest word is: {longestWord}\");\n"
   ]
  },
  {
   "cell_type": "code",
   "execution_count": 5,
   "id": "a1a2b694-65ef-442b-9a6c-7dbc53b8ba05",
   "metadata": {},
   "outputs": [
    {
     "name": "stdout",
     "output_type": "stream",
     "text": [
      "d. (Unsorted) The first composer in the dictionary is: Berlioz\n",
      "   (Unsorted) The last composer in the dictionary is: Bernstein\n",
      "d. (Sorted) The first composer in the dictionary is: Bartok\n",
      " (Sorted)   The last composer in the dictionary is: Buxtehude\n"
     ]
    }
   ],
   "source": [
    "//  Determine which composer comes first and last in the dictionary\n",
    "\n",
    "string[] composers = { \"Berlioz\", \"Borodin\", \"Brian\", \"Bartok\", \"Bellini\", \"Buxtehude\", \"Bernstein\" };\n",
    "\n",
    "\n",
    "string unSortedFirstComposer = composers[0];\n",
    "string unSortedLastComposer = composers[composers.Length - 1];\n",
    "\n",
    "Console.WriteLine($\"d. (Unsorted) The first composer in the dictionary is: {unSortedFirstComposer}\");\n",
    "Console.WriteLine($\"   (Unsorted) The last composer in the dictionary is: {unSortedLastComposer}\");\n",
    "\n",
    "// Sort the array to find first and last composer\n",
    "Array.Sort(composers);\n",
    "string sortedFirstComposer = composers[0];\n",
    "string sortedLastComposer = composers[composers.Length - 1];\n",
    "\n",
    "Console.WriteLine($\"d. (Sorted) The first composer in the dictionary is: {sortedFirstComposer}\");\n",
    "Console.WriteLine($\" (Sorted)   The last composer in the dictionary is: {sortedLastComposer}\");\n"
   ]
  },
  {
   "cell_type": "markdown",
   "id": "5893be0a-bf85-45cb-8884-d02502a84a94",
   "metadata": {},
   "source": [
    "## Question 3: Area of a Triangle\n",
    "\n",
    "**Problem Statement:**\n",
    "\n",
    "Implement a function `triangleArea(a, b, c)` that takes as input the lengths of the three sides of a triangle and returns the area of the triangle. By Heron's formula, the area of a triangle with side lengths \\(a\\), \\(b\\), and \\(c\\) is given by:\n",
    "\n",
    "\\[ s = \\frac{(a + b + c)}{2} \\]\n",
    "\n",
    "Area = \\(\\sqrt{s \\cdot (s - a) \\cdot (s - b) \\cdot (s - c)}\\)\n",
    "\n",
    "**Example:**\n",
    "\n",
    "`triangleArea(2, 2, 2)` should return `1.7320508075688772`.\n"
   ]
  },
  {
   "cell_type": "code",
   "execution_count": 39,
   "id": "d94d9540-453c-45bb-bfc1-a687f927b6af",
   "metadata": {},
   "outputs": [],
   "source": [
    "// Implement the TriangleArea function using Heron's formula\n",
    "\n",
    "using System;\n",
    "\n",
    "public class TriangleCalculator\n",
    "{\n",
    "    // Function to calculate the area of a triangle using Heron's formula\n",
    "    public static double TriangleArea(double a, double b, double c)\n",
    "    {\n",
    "        // Calculate semi-perimeter\n",
    "        double s = (a + b + c) / 2;\n",
    "\n",
    "        // Calculate the area using Heron's formula\n",
    "        double area = Math.Sqrt(s * (s - a) * (s - b) * (s - c));\n",
    "        \n",
    "        return area;\n",
    "    }\n",
    "}\n"
   ]
  },
  {
   "cell_type": "code",
   "execution_count": 40,
   "id": "d6edeab2-6e92-4b1a-a011-b603bd4cf856",
   "metadata": {},
   "outputs": [
    {
     "name": "stdout",
     "output_type": "stream",
     "text": [
      "The area of the triangle with sides 2, 2, and 2 is: 1.7320508075688772\n"
     ]
    }
   ],
   "source": [
    "//  Example usage of the TriangleArea function\n",
    "\n",
    "// Call the function with sides of the triangle\n",
    "double area = TriangleCalculator.TriangleArea(2, 2, 2);\n",
    "\n",
    "// Output the result\n",
    "Console.WriteLine($\"The area of the triangle with sides 2, 2, and 2 is: {area}\");\n"
   ]
  },
  {
   "cell_type": "markdown",
   "id": "456cdc8a-2ba1-4bf6-8dcf-1af89c589dbe",
   "metadata": {},
   "source": [
    "## Question 4: Separate Odd and Even Integers\n",
    "\n",
    "**Problem Statement:**\n",
    "\n",
    "Write a program in C# to separate odd and even integers into separate arrays.\n",
    "\n",
    "**Test Data:**\n",
    "- Input the number of elements to be stored in the array: `5`\n",
    "- Input `5` elements in the array:\n",
    "  - `element - 0: 25`\n",
    "  - `element - 1: 47`\n",
    "  - `element - 2: 42`\n",
    "  - `element - 3: 56`\n",
    "  - `element - 4: 32`\n",
    "\n",
    "**Expected Output:**\n",
    "- The Even elements are: `42 56 32`\n",
    "- The Odd elements are: `25 47`\n",
    "\n",
    "**Instructions:**\n",
    "\n",
    "Implement C# code to read the input, separate the numbers, and print the even and odd integers in separate arrays.\n"
   ]
  },
  {
   "cell_type": "code",
   "execution_count": 58,
   "id": "3e512bbb-ccd1-4c40-9109-619e0c381fbb",
   "metadata": {},
   "outputs": [
    {
     "name": "stdout",
     "output_type": "stream",
     "text": [
      "The Even elements are: 42 56 32\n",
      "The Odd elements are: 25 47\n"
     ]
    }
   ],
   "source": [
    "// Define the array directly - console.readline didn't work - threw error -> System.ArgumentNullException\n",
    "int[] elements = { 25, 47, 42, 56, 32 };\n",
    "\n",
    "// Lists to hold even and odd numbers\n",
    "List<int> evenElements = new List<int>();\n",
    "List<int> oddElements = new List<int>();\n",
    "\n",
    "// Loop through the elements to separate them into even and odd\n",
    "foreach (var element in elements)\n",
    "{\n",
    "    // Check if the element is odd or even\n",
    "    if (element % 2 == 0)\n",
    "    {\n",
    "        evenElements.Add(element);\n",
    "    }\n",
    "    else\n",
    "    {\n",
    "        oddElements.Add(element);\n",
    "    }\n",
    "}\n",
    "\n",
    "// Output the even and odd elements\n",
    "Console.WriteLine(\"The Even elements are: \" + string.Join(\" \", evenElements));\n",
    "Console.WriteLine(\"The Odd elements are: \" + string.Join(\" \", oddElements));\n"
   ]
  },
  {
   "cell_type": "markdown",
   "id": "ef8ed63a-b1e5-4691-a39c-f4fac6af834f",
   "metadata": {},
   "source": [
    "## Question 5: Point Inside Rectangle\n",
    "\n",
    "### Problem Statement:\n",
    "a. Write a function `inside(x,y,x1,y1,x2,y2)` that returns `True` or `False` depending on whether the point `(x,y)` lies in the rectangle with lower left corner `(x1,y1)` and upper right corner `(x2,y2)`.\n",
    "\n",
    "**Example:**\n",
    "- `inside(1,1,0,0,2,3)` should return `True`.\n",
    "- `inside(-1,-1,0,0,2,3)` should return `False`.\n",
    "\n",
    "b. Use the function `inside()` from part a. to write an expression that tests whether the point `(1,1)` lies in both of the following rectangles:\n",
    "1. Lower left corner `(0.3, 0.5)` and upper right corner `(1.1, 0.7)`\n",
    "2. Lower left corner `(0.5, 0.2)` and upper right corner `(1.1, 2)`\n",
    "\n"
   ]
  },
  {
   "cell_type": "code",
   "execution_count": 56,
   "id": "d5fa92a6-e88e-4105-a470-10837f526087",
   "metadata": {},
   "outputs": [
    {
     "name": "stdout",
     "output_type": "stream",
     "text": [
      "Inside(1, 1, 0, 0, 2, 3): True\n",
      "Inside(-1, -1, 0, 0, 2, 3): False\n",
      "Is point (1, 1) inside the first rectangle? False\n",
      "Is point (1, 1) inside the second rectangle? True\n"
     ]
    }
   ],
   "source": [
    "// Function to check if a point is inside a rectangle\n",
    "bool Inside(double x, double y, double x1, double y1, double x2, double y2)\n",
    "{\n",
    "    return (x >= x1 && x <= x2 && y >= y1 && y <= y2);\n",
    "}\n",
    "\n",
    "// Testing the inside function with provided examples\n",
    "Console.WriteLine(\"Inside(1, 1, 0, 0, 2, 3): \" + Inside(1, 1, 0, 0, 2, 3)); // Expected: True\n",
    "Console.WriteLine(\"Inside(-1, -1, 0, 0, 2, 3): \" + Inside(-1, -1, 0, 0, 2, 3)); // Expected: False\n",
    "\n",
    "// Check if point (1, 1) is inside both specified rectangles\n",
    "bool inFirstRectangle = Inside(1, 1, 0.3, 0.5, 1.1, 0.7);\n",
    "bool inSecondRectangle = Inside(1, 1, 0.5, 0.2, 1.1, 2);\n",
    "\n",
    "// Output the results\n",
    "Console.WriteLine(\"Is point (1, 1) inside the first rectangle? \" + inFirstRectangle); // Expected: False\n",
    "Console.WriteLine(\"Is point (1, 1) inside the second rectangle? \" + inSecondRectangle); // Expected: True\n"
   ]
  },
  {
   "cell_type": "markdown",
   "id": "300919e9-66b5-4f40-8a88-c94c8387aecb",
   "metadata": {},
   "source": [
    "### Question 6\n",
    "Write a function `pig()` that takes a word (i.e., a string) as input and returns its Pig Latin form.\n",
    "You can turn a word into Pig Latin using the following two rules (simplified):\n",
    "- If the word starts with a consonant, move that letter to the end and append 'ay'. \n",
    "  - For example, 'happy' becomes 'appyhay' and 'pencil' becomes 'encilpay'.\n",
    "- If the word starts with a vowel, simply append 'way' to the end of the word. \n",
    "  - For example, 'enter' becomes 'enterway' and 'other' becomes 'otherway'.\n",
    "  \n",
    "For our purposes, there are 5 vowels: a, e, i, o, u (so we count y as a consonant).\n",
    "\n",
    "#### Examples:\n",
    "```python\n",
    ">>> pig('happy')\n",
    "'appyhay'\n",
    ">>> pig('Enter')\n",
    "'enterway'\n"
   ]
  },
  {
   "cell_type": "code",
   "execution_count": 2,
   "id": "8deb6080-62f9-4b00-bca8-908105889255",
   "metadata": {},
   "outputs": [
    {
     "name": "stdout",
     "output_type": "stream",
     "text": [
      "appyhay\n",
      "enterway\n"
     ]
    }
   ],
   "source": [
    "def pig(word):\n",
    "    # Convert the word to lowercase\n",
    "    word = word.lower()\n",
    "\n",
    "    # Check if the first letter is a vowel\n",
    "    if word[0] in 'aeiou':\n",
    "        return word + 'way'\n",
    "    else:\n",
    "        # Move the first consonant to the end and append 'ay'\n",
    "        return word[1:] + word[0] + 'ay'\n",
    "\n",
    "# Testing the function with examples\n",
    "print(pig('happy'))   # Output: 'appyhay'\n",
    "print(pig('Enter'))   # Output: 'enterway'\n"
   ]
  },
  {
   "cell_type": "markdown",
   "id": "c890c727-bd27-4ff6-824b-cabe1bdb3503",
   "metadata": {},
   "source": [
    "### Question 7\n",
    "File `bloodtype.txt` records blood types of patients (A, B, AB, O, or OO) at a clinic. \n",
    "Write a function `bldcount(name)` that reads the file with the given name and reports (i.e., prints) how many patients there are in each blood type.\n",
    "\n",
    "#### Example:\n",
    "```python\n",
    ">>> bldcount('bloodtype.txt')\n",
    "There are 10 patients of blood type A. \n",
    "There is one patient of blood type B. \n",
    "There are 10 patients of blood type AB. \n",
    "There are 12 patients of blood type O. \n",
    "There are no patients of blood type OO.\n"
   ]
  },
  {
   "cell_type": "code",
   "execution_count": 4,
   "id": "4cde9734-d5e2-40ad-9587-b0c822573fc0",
   "metadata": {},
   "outputs": [],
   "source": [
    "def bldcount(bloodFileName):\n",
    "    # Dictionary to hold the count of each blood type\n",
    "    bloodTypeCount = {\n",
    "        'A': 0,\n",
    "        'B': 0,\n",
    "        'AB': 0,\n",
    "        'O': 0,\n",
    "        'OO': 0\n",
    "    }\n",
    "\n",
    "    # Read the blood type data from the file\n",
    "    try:\n",
    "        with open(bloodFileName, 'r') as bloodFile:\n",
    "            bloodData = bloodFile.read().strip().split()\n",
    "        \n",
    "        # Count each blood type\n",
    "        for bloodType in bloodData:\n",
    "            if bloodType in bloodTypeCount:\n",
    "                bloodTypeCount[bloodType] += 1\n",
    "\n",
    "        # Print the results\n",
    "        for bloodType, count in bloodTypeCount.items():\n",
    "            if count == 1:\n",
    "                print(f\"There is one patient of blood type {bloodType}.\")\n",
    "            elif count > 1:\n",
    "                print(f\"There are {count} patients of blood type {bloodType}.\")\n",
    "            else:\n",
    "                print(f\"There are no patients of blood type {bloodType}.\")\n",
    "    \n",
    "    except FileNotFoundError:\n",
    "        print(f\"The file '{bloodFileName}' was not found.\")\n"
   ]
  },
  {
   "cell_type": "code",
   "execution_count": 6,
   "id": "91131290-6a69-40b1-ab7d-9ed404089f69",
   "metadata": {},
   "outputs": [
    {
     "name": "stdout",
     "output_type": "stream",
     "text": [
      "There are 15 patients of blood type A.\n",
      "There is one patient of blood type B.\n",
      "There are 13 patients of blood type AB.\n",
      "There are 15 patients of blood type O.\n",
      "There are no patients of blood type OO.\n"
     ]
    }
   ],
   "source": [
    "bldcount('bloodtype1.txt')"
   ]
  },
  {
   "cell_type": "markdown",
   "id": "9f35d2a7-2507-4b45-9e95-def265afb035",
   "metadata": {},
   "source": [
    "### Question 8\n",
    "Write a function `curconv(currencyType, amount)` that takes as input:\n",
    "1. A currency represented using a string (e.g., 'JPY' for the Japanese Yen or 'EUR' for the Euro)\n",
    "2. An amount\n",
    "\n",
    "The function converts and returns the amount in US dollars.\n",
    "\n",
    "The currency rates are stored in the file `currencies.txt`.\n",
    "\n",
    "\n",
    "#### Example:\n",
    "```python\n",
    ">>> curconv('EUR', 100)\n",
    "122.96544\n",
    ">>> curconv('JPY', 100)\n",
    "1.241401\n",
    "```\n"
   ]
  },
  {
   "cell_type": "code",
   "execution_count": 23,
   "id": "6cf01216-a18d-49fa-a8bb-7848953fd617",
   "metadata": {},
   "outputs": [],
   "source": [
    "def loadCurrencyRates(filePath):\n",
    "    # Load currency rates from a given file\n",
    "    currencyRates = {}\n",
    "    with open(filePath, 'r') as file:\n",
    "        lines = file.readlines()\n",
    "        for line in lines:\n",
    "            parts = line.split()  # Split the line into parts\n",
    "            if len(parts) >= 2:  # Ensure we have at least the code and rate\n",
    "                currencyCode = parts[0]  # Currency code\n",
    "                exchangeRate = float(parts[1])  # Exchange rate to USD\n",
    "                currencyRates[currencyCode] = exchangeRate\n",
    "    return currencyRates\n",
    "\n",
    "# Load currency rates from file, this ensures this variable is always there before next func cell is executed\n",
    "currencyRates = loadCurrencyRates('currencies.txt')\n"
   ]
  },
  {
   "cell_type": "code",
   "execution_count": 25,
   "id": "0027b4a5-ab6d-457d-91fb-eb82027b67b9",
   "metadata": {},
   "outputs": [],
   "source": [
    "# This uses currencyRates variable set above from file so the expected func doesn't keep reading file for every input\n",
    "def curconv(currencyType, amount):\n",
    "    # Convert the amount to USD using provided rates\n",
    "    if currencyType in currencyRates:\n",
    "        convertedAmount = amount * currencyRates[currencyType]\n",
    "        return convertedAmount\n",
    "    else:\n",
    "        return f\"Currency '{currencyType}' is not supported.\""
   ]
  },
  {
   "cell_type": "code",
   "execution_count": 26,
   "id": "09eef23e-8744-44dd-be2c-fa9febee38da",
   "metadata": {},
   "outputs": [
    {
     "name": "stdout",
     "output_type": "stream",
     "text": [
      "122.96544\n",
      "1.241401\n"
     ]
    }
   ],
   "source": [
    "print(curconv('EUR', 100))\n",
    "print(curconv('JPY', 100))"
   ]
  },
  {
   "cell_type": "markdown",
   "id": "1e6296d0-a664-4341-b79f-dd7f3bd354e2",
   "metadata": {},
   "source": [
    "### Question 9\n",
    "Identify the type of exception that each of the following scenarios will cause:\n",
    "\n",
    "1. Trying to add incompatible variables, as in adding `6 + 'a'`\n",
    "2. Referring to the 12th item of a list that has only 10 items\n",
    "3. Using a value that is out of range for a function’s input, such as calling `math.sqrt(-1.0)`\n",
    "4. Using an undeclared variable, such as `print(x)` when `x` has not been defined\n",
    "5. Trying to open a file that does not exist, such as mistyping the file name or looking in the wrong directory.\n",
    "\n"
   ]
  },
  {
   "cell_type": "code",
   "execution_count": 28,
   "id": "f7a9f63d-0029-4adb-9ef6-4490507e88af",
   "metadata": {},
   "outputs": [
    {
     "name": "stdout",
     "output_type": "stream",
     "text": [
      "Exception for adding incompatible variables: TypeError - unsupported operand type(s) for +: 'int' and 'str'\n",
      "Exception for accessing out of range index: IndexError - list index out of range\n",
      "Exception for using out of range value: ValueError - math domain error\n",
      "Exception for using an undeclared variable: NameError - name 'takshil' is not defined\n",
      "Exception for trying to open a non-existent file: FileNotFoundError - [Errno 2] No such file or directory: 'takshil-file.txt'\n"
     ]
    }
   ],
   "source": [
    "import math\n",
    "\n",
    "# 1. Trying to add incompatible variables\n",
    "try:\n",
    "    result = 6 + 'a'\n",
    "except TypeError as e:\n",
    "    print(f\"Exception for adding incompatible variables: {type(e).__name__} - {e}\")\n",
    "\n",
    "# 2. Referring to the 12th item of a list that has only 10 items\n",
    "my_list = [11, 22, 3, 24, 5, 64, 7, 85, 9, 10]\n",
    "try:\n",
    "    item = my_list[11]\n",
    "except IndexError as e:\n",
    "    print(f\"Exception for accessing out of range index: {type(e).__name__} - {e}\")\n",
    "\n",
    "# 3. Using a value that is out of range for a function's input\n",
    "try:\n",
    "    sqrt_result = math.sqrt(-1.0)\n",
    "except ValueError as e:\n",
    "    print(f\"Exception for using out of range value: {type(e).__name__} - {e}\")\n",
    "\n",
    "# 4. Using an undeclared variable\n",
    "try:\n",
    "    print(takshil)\n",
    "except NameError as e:\n",
    "    print(f\"Exception for using an undeclared variable: {type(e).__name__} - {e}\")\n",
    "\n",
    "# 5. Trying to open a file that does not exist\n",
    "try:\n",
    "    with open('takshil-file.txt', 'r') as file:\n",
    "        content = file.read()\n",
    "except FileNotFoundError as e:\n",
    "    print(f\"Exception for trying to open a non-existent file: {type(e).__name__} - {e}\")\n"
   ]
  },
  {
   "cell_type": "markdown",
   "id": "0ac384cb-783e-4f19-892a-5dfb927ec51f",
   "metadata": {},
   "source": [
    "### Question 10\n",
    "Encryption is the process of hiding the meaning of a text by substituting letters in the message with other letters, according to some system. If the process is successful, no one but the intended recipient can understand the encrypted message. Cryptanalysis refers to attempts to undo the encryption, even if some details of the encryption are unknown (for example, if an encrypted message has been intercepted). The first step of cryptanalysis is often to build up a table of letter frequencies in the encrypted text.\n",
    "\n",
    "Assume that the string `letters` is already defined as `'abcdefghijklmnopqrstuvwxyz'`. Write a function called `frequencies()` that takes a string as its only parameter, and returns a list of integers, showing the number of times each character appears in the text. Your function may ignore any characters that are not in `letters`.\n",
    "\n",
    "**Example:**\n",
    "```python\n",
    ">>> frequencies('The quick red fox got bored and went home.')\n",
    "[1, 1, 1, 3, 5, 1, 1, 2, 1, 0, 1, 0, 1, 2, 4, 0, 1, 2, 0, 2, 1, 0, 1, 1, 0, 0]\n",
    "\n"
   ]
  },
  {
   "cell_type": "code",
   "execution_count": 1,
   "id": "4a091a4a-de47-47b3-accd-bb6262470098",
   "metadata": {},
   "outputs": [
    {
     "name": "stdout",
     "output_type": "stream",
     "text": [
      "[1, 1, 1, 3, 5, 1, 1, 2, 1, 0, 1, 0, 1, 2, 4, 0, 1, 2, 0, 3, 1, 0, 1, 1, 0, 0]\n",
      "[1, 0, 0, 0, 1, 0, 0, 0, 0, 0, 0, 1, 0, 0, 0, 2, 0, 0, 0, 0, 0, 0, 0, 0, 0, 0]\n",
      "[3, 0, 0, 0, 0, 0, 0, 2, 2, 0, 2, 1, 0, 0, 1, 0, 0, 1, 2, 1, 0, 0, 0, 0, 0, 0]\n"
     ]
    }
   ],
   "source": [
    "def frequencies(inputText):\n",
    "    # Define the string of letters\n",
    "    letters = 'abcdefghijklmnopqrstuvwxyz'\n",
    "    \n",
    "    # Initialize a list of 26 zeros for letter frequencies (if input not in letter, defaults to zero)\n",
    "    letterCount = [0] * 26\n",
    "    \n",
    "    # Convert the input text to lower case for case insensitive comparison\n",
    "    inputText = inputText.lower()\n",
    "    \n",
    "    # Count the frequency of each letter in the input text\n",
    "    for char in inputText:\n",
    "        if char in letters:\n",
    "            index = letters.index(char)\n",
    "            letterCount[index] += 1\n",
    "\n",
    "    return letterCount\n",
    "\n",
    "# Test the function with examples\n",
    "print(frequencies('The quick red fox got bored and went home.'))\n",
    "print(frequencies('apple'))\n",
    "print(frequencies('Takshil Khorasia'))"
   ]
  },
  {
   "cell_type": "code",
   "execution_count": null,
   "id": "3558dff9-ea1a-45fa-ada4-c2f0489ce69f",
   "metadata": {},
   "outputs": [],
   "source": []
  }
 ],
 "metadata": {
  "kernelspec": {
   "display_name": "Python 3 (ipykernel)",
   "language": "python",
   "name": "python3"
  },
  "language_info": {
   "codemirror_mode": {
    "name": "ipython",
    "version": 3
   },
   "file_extension": ".py",
   "mimetype": "text/x-python",
   "name": "python",
   "nbconvert_exporter": "python",
   "pygments_lexer": "ipython3",
   "version": "3.12.3"
  }
 },
 "nbformat": 4,
 "nbformat_minor": 5
}
